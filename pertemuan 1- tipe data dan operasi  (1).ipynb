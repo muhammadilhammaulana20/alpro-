{
 "cells": [
  {
   "cell_type": "code",
   "execution_count": null,
   "id": "04bae28b-d25b-4fe2-923b-90e859379b15",
   "metadata": {},
   "outputs": [],
   "source": [
    "print(f\"halloo semuanya\")"
   ]
  },
  {
   "cell_type": "markdown",
   "id": "588c9319-e327-402c-b920-023520f0f864",
   "metadata": {},
   "source": [
    "### Variabel ###\n",
    "\n",
    "aturan untuk menulis variabel :\n",
    "1. Variabel tidak boleh dimulai dengan angka.\n",
    "   contoh 1pengguna = .... (tidak boleh)  \n",
    "2. Nama variabel tidak boleh mengandung spasi, simbol khusus (kecuali underscore), atau tanda baca\n",
    "3. setiap kata yang bukan angka dikasih petik 2 (\")\n"
   ]
  },
  {
   "cell_type": "code",
   "execution_count": null,
   "id": "585a3c0b-e8d7-4a59-8431-34c2e12933ef",
   "metadata": {},
   "outputs": [],
   "source": [
    "# variabel \n",
    "nama_user = \"ilham\"\n",
    "\n",
    "\n"
   ]
  },
  {
   "cell_type": "markdown",
   "id": "9883c28a-c802-40d8-bdc4-f3ad9057e817",
   "metadata": {},
   "source": [
    "## tipe data ##\n",
    "1. bilangan desimal pake titik bukan koma\n",
    "2. perbedaan teks dan teks multibaris adalah kalau multibaris ada simbol(''') yang berguna untuk baris yang berbeda\n",
    "3. boolean = ada 2 yaitu True dan False yang biasanya digunakan saat lohika dan perulangan "
   ]
  },
  {
   "cell_type": "code",
   "execution_count": null,
   "id": "50ef9035-e851-4232-bb6d-9fa5ee1cbb59",
   "metadata": {},
   "outputs": [],
   "source": [
    "# tipe data \n",
    "bilangan_desimal = 3.12\n",
    "bilangan_bulat = 11\n",
    "teks = \"aku ilham \"\n",
    "teks_multibaris = '''pertama\n",
    "kedua\n",
    "ketiga'''\n",
    "boolean = True \n",
    "\n",
    "print(teks_multibaris)\n",
    "\n"
   ]
  },
  {
   "cell_type": "markdown",
   "id": "66428066-8650-4457-acdd-ed7b06e39245",
   "metadata": {},
   "source": [
    "# input #"
   ]
  },
  {
   "cell_type": "code",
   "execution_count": null,
   "id": "4c237e35-f789-4958-b037-dd7cbad76081",
   "metadata": {},
   "outputs": [],
   "source": [
    "nama = input(\"masukkan nama kamu : \")\n",
    "print(\"nama\")"
   ]
  },
  {
   "cell_type": "markdown",
   "id": "09561953-538e-48cd-bd3b-7290c1319401",
   "metadata": {},
   "source": [
    "## memasukan modul ##\n",
    "Import modul adalah proses memasukkan fungsi, kelas, atau kode lain dari modul ke dalam program yang sedang ditulis. Modul adalah file Python berisi definisi dan pernyataan yang dapat digunakan kembali di berbagai program."
   ]
  },
  {
   "cell_type": "code",
   "execution_count": null,
   "id": "af2a2bc8-299e-4b9a-a5a9-fe9384484ccf",
   "metadata": {},
   "outputs": [],
   "source": [
    "from math import sqrt\n",
    "from pandas import DataFrame\n",
    "from numpy import random "
   ]
  },
  {
   "cell_type": "markdown",
   "id": "1b74eaf1-a638-4b5b-a507-3232ef193d47",
   "metadata": {},
   "source": [
    "## percabangan ##\n",
    "jika dalam kondisi yang pertama tidak memenuhi makan lanjut ke kondisi yang kedua dan seterusnya sampai false atau terakhir"
   ]
  },
  {
   "cell_type": "code",
   "execution_count": null,
   "id": "5cda86f5-2c79-47e0-8c2b-8eeef2540f65",
   "metadata": {},
   "outputs": [],
   "source": [
    "nama = input(\"masukkan nama seseorang: \") \n",
    "if nama == \"doni\":\n",
    "    print(\"temen\")\n",
    "if nama == \"dani\":\n",
    "    print(\"temen deket\")\n",
    "else:\n",
    "    print(\"salah\") "
   ]
  },
  {
   "cell_type": "markdown",
   "id": "034b4c06-7f95-47fc-a81d-b5cfb5fc0be1",
   "metadata": {},
   "source": [
    "## Looping and while ## \n",
    "1. Looping adalah proses pengulangan suatu blok kode secara berulang-ulang. Ini sangat berguna ketika kita ingin melakukan tugas yang sama berulang kali dengan data yang berbeda.\n",
    "2. while adalah salah satu jenis loop yang paling umum. Loop ini akan terus berjalan selama kondisi yang diberikan bernilai benar (true)\n",
    "   "
   ]
  },
  {
   "cell_type": "code",
   "execution_count": null,
   "id": "fe3bf442-d0f8-469d-ad2e-80f9cb435a5b",
   "metadata": {},
   "outputs": [],
   "source": [
    "for i in range(1,7):\n",
    "    print(i)\n",
    "    print('aku',i)"
   ]
  },
  {
   "cell_type": "code",
   "execution_count": null,
   "id": "fbcf1699-46c0-4b4f-9e55-c95de5da8d36",
   "metadata": {},
   "outputs": [],
   "source": [
    "nama = [\"ilham\",\"doni\",\"dani\",\"ali\"]\n",
    "for i in nama:\n",
    "    print(\"namaku adalah\",nama)\n",
    "  "
   ]
  },
  {
   "cell_type": "markdown",
   "id": "341bf49e-51da-4f30-8e29-2759d70fe48b",
   "metadata": {},
   "source": [
    "## fungsi ## \n",
    "Fungsi adalah kumpulan instruksi atau perintah yang dikelompokkan menjadi satu kesatuan untuk melakukan tugas tertentu. Misalnya, fungsi untuk menghitung luas persegi panjang, fungsi untuk mengurutkan data, atau fungsi untuk menampilkan pesan di layar.\n"
   ]
  },
  {
   "cell_type": "code",
   "execution_count": null,
   "id": "6b7b5612-3a27-4bc5-a6e7-841793deb936",
   "metadata": {},
   "outputs": [],
   "source": [
    "alas = int(input(\"masukkab panjang alas segitiga\"))\n",
    "tinggi = int(input(\"masukkan tinggi segitiga\"))\n",
    "luas_alas_segitiga = 0.5 * alas * tinggi \n",
    "\n",
    "print(\"luas segitiga adalah\", luas_alas_segitiga)"
   ]
  },
  {
   "cell_type": "code",
   "execution_count": null,
   "id": "e13e0a6c-d6ec-455d-a1ef-b9120cd311fe",
   "metadata": {},
   "outputs": [],
   "source": [
    "panjang_persegi = int(input(\"masukkan panjang persegi\"))\n",
    "luas_persegi = panjang_persegi * panjang_persegi\n",
    "keliling_persegi = 4 * panjang_persegi\n",
    "\n",
    "print(\"luas persegi ini adalah\", luas_persegi, \"keliling persegi inii adalah\", keliling_persegi)"
   ]
  },
  {
   "cell_type": "markdown",
   "id": "b956807b-8378-4a4f-9fe3-bc57e27a5e50",
   "metadata": {},
   "source": [
    "### fungsi dengan tipe void ###\n",
    "Fungsi dapat memiliki tipe data yang berbeda, termasuk tipe data void. Fungsi dengan tipe void tidak mengembalikan nilai apa pun."
   ]
  },
  {
   "cell_type": "code",
   "execution_count": null,
   "id": "82215c7e-dc94-4e92-bbef-53d5685423be",
   "metadata": {},
   "outputs": [],
   "source": [
    "#Berikut adalah contoh fungsi dengan tipe void yang mendefinisikan fungsi print_hello():\n",
    "def print_hello():\n",
    "    print(\"assalamualaikum \")\n",
    "\n",
    "print_hello()"
   ]
  },
  {
   "cell_type": "markdown",
   "id": "51100bd7-9ab8-4185-b9a1-9a1fda46d2f3",
   "metadata": {},
   "source": [
    "### Fungsi Rekursif ### \n",
    "Fungsi rekursif adalah fungsi yang memanggil dirinya sendiri. Fungsi rekursif dapat digunakan untuk menyelesaikan masalah yang dapat dipecah menjadi masalah yang lebih kecil. "
   ]
  },
  {
   "cell_type": "code",
   "execution_count": null,
   "id": "2d8a2fe4-da14-4763-850f-e93cbac90bf7",
   "metadata": {},
   "outputs": [],
   "source": [
    "# Berikut adalah contoh fungsi rekursif yang mendefinisikan fungsi factorial():\n",
    "def factorial(n):\n",
    "    if n == 0:\n",
    "        return 1\n",
    "    else:\n",
    "        return n * factorial(n - 1)\n",
    "\n",
    "print(factorial(3))"
   ]
  },
  {
   "cell_type": "markdown",
   "id": "62cea3c0-25b7-4f0b-935b-27b3d1343d39",
   "metadata": {},
   "source": [
    "# Konsep PBO # \n",
    "Pemrograman Berbasis Objek (PBO) adalah paradigma pemrograman yang menganggap bahwa perangkat lunak terdiri dari objek-objek yang saling berinteraksi. Objek-objek ini memiliki data dan perilakunya masing-masing.\r\n",
    "\r\n",
    "Kelebihan dan kekurangan PBO\r\n",
    "Kelebihan PBO antara lain:\r\n",
    "\r\n",
    "Lebih mudah dipahami dan dikembangkan\r\n",
    "Lebih mudah diuji\r\n",
    "Lebih mudah dirawat\r\n",
    "Kekurangan PBO antara lain:\r\n",
    "\r\n",
    "Lebih kompleks\r\n",
    "Memerlukan waktu lebih lama untuk dipelajari\r\n",
    "Konsep dasar PBO\r\n",
    "Konsep dasar PBO antara lain:\r\n",
    "\r\n",
    "Objek: Suatu entitas yang memiliki data dan perilakunya masing-masing.\r\n",
    "Class: Suatu template yang digunakan untuk membuat objek.\r\n",
    "Atribut: Data yang dimiliki oleh objek.\r\n",
    "Method: Perilaku yang dimiliki oleh objek."
   ]
  },
  {
   "cell_type": "markdown",
   "id": "5308cef8-925d-4b93-8c6f-29b513af78ee",
   "metadata": {},
   "source": [
    "# Method Getter/Setter # \n",
    "    Method getter/setter adalah method yang digunakan untuk membaca atau menulis nilai atribut. Method getter disebut juga dengan property getter, sedangkan method setter disebut juga dengan property setter.\n",
    "\n",
    "Pengertian Method Getter\n",
    "Method getter adalah method yang digunakan untuk membaca nilai atribut. Method getter memiliki nama yang sama dengan atribut yang diaksesnya. "
   ]
  },
  {
   "cell_type": "code",
   "execution_count": null,
   "id": "01ea0ab7-9808-4b91-9542-561288915cbe",
   "metadata": {},
   "outputs": [],
   "source": [
    "class Person:\n",
    "    # Atribut\n",
    "    name = \"\"\n",
    "    age = 0\n",
    "\n",
    "    # Method getter\n",
    "    def get_name(self):\n",
    "        return self.name\n",
    "\n",
    "\n",
    "# Membuat objek\n",
    "person1 = Person()\n",
    "person1.name = \"ilham maulana\"\n",
    "\n",
    "# Membaca nilai atribut\n",
    "print(person1.get_name())"
   ]
  },
  {
   "cell_type": "markdown",
   "id": "ab949951-0e75-46a0-90ab-3d823ff98039",
   "metadata": {},
   "source": [
    "# Encapsulation #\n",
    "Encapsulation adalah teknik pemrograman yang digunakan untuk menyembunyikan data dan perilaku dari objek. Encapsulation dilakukan dengan menggunakan method getter/setter. \n"
   ]
  },
  {
   "cell_type": "markdown",
   "id": "6b6de288-223d-4c9f-8c75-4436f44e14e6",
   "metadata": {},
   "source": [
    "### Manfaat Encapsulation ###\n",
    "1. Meningkatkan keamanan: Encapsulation dapat membantu melindungi data dan perilaku objek dari akses yang tidak sah.\n",
    "2. Meningkatkan kejelasan kode: Encapsulation dapat membuat kode lebih mudah dibaca dan dipahami.\n",
    "3. Meningkatkan fleksibilitas: Encapsulation dapat membuat kode lebih fleksibel untuk diperluas.\n",
    "Latihan Soal"
   ]
  },
  {
   "cell_type": "markdown",
   "id": "a38f305a-465a-4b47-8b09-9ab840710092",
   "metadata": {},
   "source": [
    "# 4 Tipe Data Koleksi pada Python # \n",
    "1. List adalah tipe data urutan yang dapat menyimpan berbagai tipe data.\n",
    "2. Tuple adalah tipe data urutan yang tidak dapat diubah.\n",
    "3. Set adalah tipe data kumpulan yang tidak memiliki elemen duplikat.\n",
    "4. Dictionary adalah tipe data kumpulan yang memiliki pasangan kunci-nilai."
   ]
  },
  {
   "cell_type": "markdown",
   "id": "43b05ba3-bf05-4e3f-aa07-b04b334503f6",
   "metadata": {},
   "source": [
    "# Deklarasi List # \n",
    "List dapat dideklarasikan dengan menggunakan kurung siku []. Elemen-elemen dalam list dipisahkan dengan tanda koma ,."
   ]
  },
  {
   "cell_type": "code",
   "execution_count": null,
   "id": "514da462-d21d-4af5-aca2-be7228bb837e",
   "metadata": {},
   "outputs": [],
   "source": [
    "# Deklarasi list dengan tipe data integer\n",
    "angka = [1, 2, 3, 4, 5]\n",
    "\n",
    "# Deklarasi list dengan tipe data string\n",
    "nama = [\"Andi\", \"Budi\", \"Cici\"]\n",
    "\n",
    "# Deklarasi list dengan tipe data campuran\n",
    "campuran = [1, \"Andi\", True, [1, 2, 3]]\n",
    "print(nama) "
   ]
  },
  {
   "cell_type": "markdown",
   "id": "0a156e84-4e14-4f1a-bbc5-6a096b109c1f",
   "metadata": {},
   "source": [
    "# Slicing List # \n",
    "Slicing digunakan untuk mengambil sebagian elemen dari list. Slicing menggunakan notasi [start:end], di mana:\n",
    "\n",
    "start adalah indeks awal elemen yang akan diambil.\n",
    "end adalah indeks akhir elemen yang akan diambil.\n",
    "Jika end tidak ditentukan, maka slicing akan mengambil elemen hingga elemen terakhir."
   ]
  },
  {
   "cell_type": "code",
   "execution_count": null,
   "id": "bc836ee4-8799-4d15-809d-9c5abe36d709",
   "metadata": {},
   "outputs": [],
   "source": [
    "angka = [\"ilham\",\"dani\",\"doni\",\"ali\"]\n",
    "\n",
    "# Mengambil elemen pertama dan kedua\n",
    "print(angka[:2])\n",
    "\n",
    "# Mengambil elemen ketiga dan keempat\n",
    "print(angka[2:4])\n",
    "\n",
    "# Mengambil semua elemen\n",
    "print(angka[:])"
   ]
  },
  {
   "cell_type": "markdown",
   "id": "0bea6ba9-c9f9-4053-a1a7-138993ee9a56",
   "metadata": {},
   "source": [
    "# Mengubah Data di Dalam List #\n",
    "Data di dalam list dapat diubah dengan menggunakan operator assignment =."
   ]
  },
  {
   "cell_type": "code",
   "execution_count": null,
   "id": "b3b1373e-3d7e-4ab1-9651-487f97feced7",
   "metadata": {},
   "outputs": [],
   "source": [
    "angka = [1, 2, 3, 4, 5]\n",
    "\n",
    "# Mengubah elemen empat menjadi 10\n",
    "angka[4] = 10\n",
    "\n",
    "# Mengubah elemen kedua menjadi \"asik\"\n",
    "angka[1] = \"asik\"\n",
    "\n",
    "print(angka)\n",
    "\n"
   ]
  },
  {
   "cell_type": "markdown",
   "id": "e9993db8-1677-4782-9fd2-7e74da373aa2",
   "metadata": {},
   "source": [
    "## Menambah Item ke Dalam List ## \n",
    "Item dapat ditambahkan ke dalam list dengan menggunakan metode append(). "
   ]
  },
  {
   "cell_type": "code",
   "execution_count": null,
   "id": "939fd794-8420-4364-9be7-7c7a788b7ca1",
   "metadata": {},
   "outputs": [],
   "source": [
    "angka = [1, 2, 3, 4, 5]\n",
    "\n",
    "angka.append(9)\n",
    "\n",
    "print(angka) "
   ]
  },
  {
   "cell_type": "code",
   "execution_count": null,
   "id": "95ea4fb9-657c-44f0-b9bd-288d037fcdce",
   "metadata": {},
   "outputs": [],
   "source": [
    "# bisa juga pake insert() untuk menambhakan 2 parameter \n",
    "angka = [1, 2, 3, 4, 5]\n",
    "\n",
    "angka.insert(5, 7)\n",
    "\n",
    "print(angka)"
   ]
  },
  {
   "cell_type": "markdown",
   "id": "fae40233-a8d8-48f2-b504-b5cac67203eb",
   "metadata": {},
   "source": [
    "# Menghapus Item dari List # \n"
   ]
  },
  {
   "cell_type": "code",
   "execution_count": null,
   "id": "686c74db-3f57-4158-bde8-a95458f93e92",
   "metadata": {},
   "outputs": [],
   "source": [
    "angka = [1, 2, 3, 4, 5]\n",
    "\n",
    "# Menghapus elemen terakhir\n",
    "angka.pop()\n",
    "\n",
    "print(angka)\n",
    "\n",
    "# Menghapus elemen di indeks ke-2\n",
    "angka.pop(1)\n",
    "\n",
    "print(angka) # dimulai dari 0 "
   ]
  },
  {
   "cell_type": "code",
   "execution_count": null,
   "id": "df83f550-ea8a-4ac9-981b-05b1d0be1876",
   "metadata": {},
   "outputs": [],
   "source": [
    "angka = [1, 2, 3, 4, 5]\n",
    "\n",
    "# Menghapus elemen 3\n",
    "angka.remove(5)\n",
    "\n",
    "print(angka) "
   ]
  },
  {
   "cell_type": "markdown",
   "id": "11d7997c-b567-4d9a-92dc-13595fdeea4b",
   "metadata": {},
   "source": [
    "## Mengurutkan Data ## \n",
    "List dapat diurutkan dengan menggunakan metode sort(). Metode sort() mengurutkan list secara ascending (dari kecil ke besar)."
   ]
  },
  {
   "cell_type": "code",
   "execution_count": null,
   "id": "b4007e3d-1ed9-4f69-b3e3-7a501cb27d59",
   "metadata": {},
   "outputs": [],
   "source": [
    "angka = [7, 8, 9, 14, 123, 5, 2, 1, 3, 4]\n",
    "\n",
    "# Mengurutkan list\n",
    "angka.sort()\n",
    "\n",
    "print(angka) \n",
    "\n",
    "# List juga dapat diurutkan secara descending (dari besar ke kecil) dengan menggunakan metode sort() dan parameter reverse=True.\n",
    "\n",
    "angka = [1, 2, 3, 5, 8, 9,57]\n",
    "angka.sort(reverse=True)\n",
    "print(angka)"
   ]
  },
  {
   "cell_type": "markdown",
   "id": "fb821bc7-5120-4c7e-bd10-e5bdfb66910f",
   "metadata": {},
   "source": [
    "# Fungsi dalam List # \n",
    "len(): Mengembalikan panjang list\n",
    "\n",
    "min(): Mengembalikan elemen terkecil dari list\n",
    "\n",
    "max(): Mengembalikan elemen terbesar dari list\n",
    "\n",
    "sum(): Mengembalikan jumlah semua elemen dari list\n",
    "\n",
    "in: Memeriksa apakah elemen tertentu ada di dalam list\n",
    "\n",
    "not in: Memeriksa apakah elemen tertentu tidak ada di dalam list "
   ]
  },
  {
   "cell_type": "code",
   "execution_count": null,
   "id": "627895a6-707e-4fde-ba0a-50e773de9b7b",
   "metadata": {},
   "outputs": [],
   "source": [
    "for i in range(17, 0, -2):\n",
    "    print(f\"ini perulangan ke {i}\")"
   ]
  },
  {
   "cell_type": "code",
   "execution_count": null,
   "id": "4665509f-fc9f-41e7-9780-df7f4593b386",
   "metadata": {},
   "outputs": [],
   "source": [
    "fruits = [\"apple\", \"banana\", \"cherry\"]\n",
    "for fruit in fruits:\n",
    "    print(f\"Saya Suka Makan {fruit}\")"
   ]
  },
  {
   "cell_type": "code",
   "execution_count": null,
   "id": "06ca7434-9779-4dd7-ae70-bfe1e7a55444",
   "metadata": {},
   "outputs": [],
   "source": [
    "# perulangan karakter dalam sebuah string\n",
    "aku = \"haloooo\"\n",
    "for char in aku:\n",
    "    print(char, end=\"\")"
   ]
  },
  {
   "cell_type": "code",
   "execution_count": null,
   "id": "a583a945-7b55-4430-96ac-d7281421ba02",
   "metadata": {},
   "outputs": [],
   "source": [
    "angka = 10\n",
    "for i in range(1,7):\n",
    "    print(angka, \"+\", i, \"=\", angka + i)"
   ]
  },
  {
   "cell_type": "code",
   "execution_count": null,
   "id": "46ca3958-5963-49a3-a760-be3e315f117a",
   "metadata": {},
   "outputs": [],
   "source": [
    "i = 2 \n",
    "while i < 20:\n",
    "    print(i)\n",
    "    i = i + 4 "
   ]
  },
  {
   "cell_type": "code",
   "execution_count": null,
   "id": "54fc7e4b-0bdf-45e0-961d-f053d62e36a8",
   "metadata": {},
   "outputs": [],
   "source": [
    "# function def \n",
    "\n",
    "nama = [\"ilham\"]\n",
    "def selamat_pagi(nama):\n",
    "    print(f\"halo pak {nama}, selamat menikmati!!\")"
   ]
  },
  {
   "cell_type": "code",
   "execution_count": null,
   "id": "f5f7d3ba-999d-4a64-a0a2-91ffe5925f8f",
   "metadata": {},
   "outputs": [],
   "source": [
    "def predikatMahasiswa(nilai1, nilai2, nilai3):\n",
    "    rataRata = (nilai1 + nilai2 + nilai3)/3\n",
    "    if rataRata >= 80 and rataRata <= 100:\n",
    "        print(\"Selamat, predikat kamu A!\")\n",
    "    elif rataRata >= 60 and rataRata < 80:\n",
    "        print(\"Predikat kamu B, pertahankan yaa!\")\n",
    "    elif rataRata >= 30 and rataRata < 60:\n",
    "        print(\"Predikat kamu C, perbaiki ya!\")\n",
    "    elif rataRata >= 0 and rataRata < 30:\n",
    "        print(\"Mending pulang deck\")\n",
    "        \n",
    "nilaiMhs1 = int(input(\"Masukkan nilai pertama: \"))\n",
    "nilaiMhs2 = int(input(\"Masukkan nilai kedua: \"))\n",
    "nilaiMhs3 = int(input(\"Masukkan nilai ketiga: \"))\n",
    "\n",
    "Hasil = predikatMahasiswa(nilaiMhs1, nilaiMhs2, nilaiMhs3)"
   ]
  },
  {
   "cell_type": "markdown",
   "id": "d188632f-9c4e-4459-b7e4-f071f32d4d58",
   "metadata": {},
   "source": [
    "## penggunaan parameter tak beruntun ## \n"
   ]
  },
  {
   "cell_type": "code",
   "execution_count": null,
   "id": "d054464c-4bda-49a8-8948-61ce964947d3",
   "metadata": {},
   "outputs": [],
   "source": [
    "def suhu_udara (daerah, derajat = 30, satuan = 'celcius'):\n",
    "    print(f\"Suhu di {daerah} adalah {derajat} {satuan}\")\n",
    "    \n",
    "suhu_udara(satuan='kelvin', daerah='ketintang', derajat=90)"
   ]
  },
  {
   "cell_type": "code",
   "execution_count": null,
   "id": "603bb2da-f2b0-4248-8632-55605b5592bd",
   "metadata": {},
   "outputs": [],
   "source": [
    "golongan = \"C\"\n",
    "jam_kerja = 50\n",
    "if golongan ==\"A\": \n",
    "    upah_per_jam = 4000\n",
    "elif golongan ==\"B\": \n",
    "    upah_per_jam = 6000\n",
    "elif golongan ==\"C\": \n",
    "    upah_per_jam = 7000\n",
    "elif golongan ==\"D\": \n",
    "    upah_per_jam = 10000\n",
    "total_upah = jam_kerja*upah_per_jam\n",
    "if(jam_kerja-48)>0 : \n",
    "    total_upah = total_upah + ((jam_kerja-48)*4000)\n",
    "print(\"anda menerima upah Rp.\", total_upah, \"per minggu\")"
   ]
  },
  {
   "cell_type": "markdown",
   "id": "b449e7e6-c54a-4d89-abe1-1f0d8392c7f5",
   "metadata": {},
   "source": [
    "# Operasi Aritmatika pada List/Array #\n",
    "t float"
   ]
  },
  {
   "cell_type": "code",
   "execution_count": null,
   "id": "cf0cc5af-f49c-45fc-9c21-92d3b926c347",
   "metadata": {},
   "outputs": [],
   "source": [
    "# Mendefinisikan dua list\n",
    "list_1 = [1, 2, 3, 4, 5]\n",
    "list_2 = [6, 7, 8, 9, 10] \n",
    "list_1 + list_2"
   ]
  },
  {
   "cell_type": "code",
   "execution_count": null,
   "id": "5b090534-1290-446c-91e9-7c39f1d4f4a7",
   "metadata": {},
   "outputs": [],
   "source": [
    "# Penjumlahan list\n",
    "hasil_penjumlahan = [a + b for a, b in zip(list_1, list_2)]\n",
    "print(\"Penjumlahan list:\", hasil_penjumlahan)  # Output: [7, 9, 11, 13, 15]\n",
    "\n",
    "# Pengurangan list\n",
    "hasil_pengurangan = [a - b for a, b in zip(list_1, list_2)]\n",
    "print(\"Pengurangan list:\", hasil_pengurangan)  # Output: [-5, -5, -5, -5, -5]\n",
    "\n",
    "# Perkalian list (elemen-wise)\n",
    "hasil_perkalian = [a * b for a, b in zip(list_1, list_2)]\n",
    "print(\"Perkalian list:\", hasil_perkalian)  # Output: [6, 14, 24, 36, 50]\n",
    "\n",
    "# Pembagian list (elemen-wise)\n",
    "hasil_pembagian = [a / b for a, b in zip(list_2, list_1)]\n",
    "print(\"Pembagian list:\", hasil_pembagian)  # Output: [6.0, 3.5, 2.6666666666666665, 2.25, 2.0]"
   ]
  },
  {
   "cell_type": "code",
   "execution_count": null,
   "id": "8de789e1-1e76-450e-b17f-0c62d59c270a",
   "metadata": {},
   "outputs": [],
   "source": [
    "import math\n",
    "\n",
    "bilangan = float(input(\"akar bilangan\"))\n",
    "\n",
    "hasil = math.sqrt(bilangan)\n",
    "print(hasil)"
   ]
  },
  {
   "cell_type": "code",
   "execution_count": null,
   "id": "076b1e39-2344-432d-beac-60df2f123811",
   "metadata": {},
   "outputs": [],
   "source": [
    "bilangan = [10, 20, 30, 40, 50]\n",
    "\n",
    "# Inisialisasi variabel total\n",
    "total = 0\n",
    "\n",
    "# Menghitung total menggunakan perulangan for\n",
    "for bil in bilangan:\n",
    "    total += bil\n",
    "\n",
    "# Menghitung rata-rata\n",
    "rata_rata = total/len(bilangan)\n",
    "\n",
    "# Menampilkan hasil\n",
    "print(f\"Rata-rata dari bilangan {bilangan} adalah: {rata_rata}\")"
   ]
  },
  {
   "cell_type": "code",
   "execution_count": null,
   "id": "bddfa309-a118-4332-ab48-55e68fc74baa",
   "metadata": {},
   "outputs": [],
   "source": [
    "i=5\n",
    "for indeks in range(i):\n",
    "    i+=2 \n",
    "    print(i) \n",
    "for indeks in range(0, 6):\n",
    "    print(indeks)\n",
    "else: \n",
    "    print(\"the for loup is over\")\n",
    "print(\"done\") "
   ]
  },
  {
   "cell_type": "code",
   "execution_count": null,
   "id": "1eb50b97-76c9-4cd2-9766-58bdb13d05f3",
   "metadata": {},
   "outputs": [],
   "source": [
    "# tipe data string \n",
    "for i in \"water melon\":\n",
    "    print(i) "
   ]
  },
  {
   "cell_type": "code",
   "execution_count": null,
   "id": "2530f6c9-95cd-41a0-8c0d-b054f9c23df8",
   "metadata": {},
   "outputs": [],
   "source": [
    "i=0\n",
    "for i in range (1, 11):\n",
    "  i+=10\n",
    "  print(\"jumlah penjumlahan angka 1 sampai angka 10: \", i) "
   ]
  }
 ],
 "metadata": {
  "kernelspec": {
   "display_name": "Python 3 (ipykernel)",
   "language": "python",
   "name": "python3"
  },
  "language_info": {
   "codemirror_mode": {
    "name": "ipython",
    "version": 3
   },
   "file_extension": ".py",
   "mimetype": "text/x-python",
   "name": "python",
   "nbconvert_exporter": "python",
   "pygments_lexer": "ipython3",
   "version": "3.12.4"
  }
 },
 "nbformat": 4,
 "nbformat_minor": 5
}
